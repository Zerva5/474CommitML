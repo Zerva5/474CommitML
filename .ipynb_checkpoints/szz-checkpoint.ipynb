{
 "cells": [
  {
   "cell_type": "code",
   "execution_count": 1,
   "id": "1b470aa0-23bc-465c-afb5-a768827d1595",
   "metadata": {},
   "outputs": [],
   "source": [
    "#TODO: Imports"
   ]
  },
  {
   "cell_type": "code",
   "execution_count": 8,
   "id": "db734819-05bc-4c7c-8b2d-dd737787bb69",
   "metadata": {},
   "outputs": [],
   "source": [
    "#TODO: Declare params for data pre-processing"
   ]
  },
  {
   "cell_type": "code",
   "execution_count": 9,
   "id": "37f1d401-c197-4a91-8228-fd243931f419",
   "metadata": {},
   "outputs": [],
   "source": [
    "#TODO: Load raw data files"
   ]
  },
  {
   "cell_type": "code",
   "execution_count": 10,
   "id": "b0fdf9c3-07e2-4912-8570-0614f7b9fdbf",
   "metadata": {},
   "outputs": [],
   "source": [
    "#TODO: Load Full data from GH / local git\n",
    "# - Commit Message\n",
    "# - Parent SHA\n",
    "# - Files Changed\n",
    "# - Each file source at parent\n",
    "# - Each file source at current commit\n",
    "# - Author"
   ]
  },
  {
   "cell_type": "code",
   "execution_count": 11,
   "id": "f25db691-0e1b-4a13-b172-fa0c69004123",
   "metadata": {},
   "outputs": [],
   "source": [
    "#TODO: Create Token vocab for AST parsing"
   ]
  },
  {
   "cell_type": "code",
   "execution_count": 12,
   "id": "991784bc-6638-4ddc-b43c-33ce05ed93cc",
   "metadata": {},
   "outputs": [],
   "source": [
    "#TODO: Parse each AST from each source"
   ]
  },
  {
   "cell_type": "code",
   "execution_count": 13,
   "id": "6085f32f-f867-41af-a06f-9b9b25cc8059",
   "metadata": {},
   "outputs": [],
   "source": [
    "#TODO: Map each AST to a bag of paths"
   ]
  },
  {
   "cell_type": "code",
   "execution_count": 17,
   "id": "41c595a1-9654-4683-847a-2f8457337eca",
   "metadata": {},
   "outputs": [],
   "source": [
    "#TODO: Pad each Path"
   ]
  },
  {
   "cell_type": "code",
   "execution_count": 18,
   "id": "77613353-03d1-465b-901b-c80006f59e31",
   "metadata": {},
   "outputs": [],
   "source": [
    "#TODO: Compute Set differences"
   ]
  },
  {
   "cell_type": "code",
   "execution_count": 19,
   "id": "fce8ca74-d9fd-4404-8854-623a186d2371",
   "metadata": {},
   "outputs": [],
   "source": [
    "#TODO: Pad each BoP"
   ]
  },
  {
   "cell_type": "code",
   "execution_count": 20,
   "id": "02245d0f-9aa3-4e19-9565-7d4a5c308058",
   "metadata": {},
   "outputs": [],
   "source": [
    "#TODO: One Hot Encode Each Path"
   ]
  },
  {
   "cell_type": "code",
   "execution_count": 21,
   "id": "65825957-3a06-4a5d-b62e-9fa865055375",
   "metadata": {},
   "outputs": [],
   "source": [
    "#TODO: Sample K-Contexts per Bag"
   ]
  },
  {
   "cell_type": "code",
   "execution_count": 22,
   "id": "6386a9f7-faae-4d6e-b441-6656c9c648e9",
   "metadata": {},
   "outputs": [],
   "source": [
    "#TODO: Preprocess each commit metadata"
   ]
  },
  {
   "cell_type": "code",
   "execution_count": 28,
   "id": "a5add242-33c0-4b00-afff-33485dfe6e77",
   "metadata": {},
   "outputs": [],
   "source": [
    "#TODO: Create X_Train and X_Test"
   ]
  },
  {
   "cell_type": "code",
   "execution_count": 29,
   "id": "f726de46-3e71-4172-8e3d-46fb4f4352e0",
   "metadata": {},
   "outputs": [],
   "source": [
    "#TODO: Declare params for ML Model"
   ]
  },
  {
   "cell_type": "code",
   "execution_count": 30,
   "id": "a5f56908-0f3d-476e-aadb-2e4bdf6485ae",
   "metadata": {},
   "outputs": [],
   "source": [
    "#TODO: Initialize Model"
   ]
  },
  {
   "cell_type": "code",
   "execution_count": 31,
   "id": "6f390403-cb08-48f1-9dec-693a128a0005",
   "metadata": {},
   "outputs": [],
   "source": [
    "#TODO: Train SimSiam Encoder"
   ]
  },
  {
   "cell_type": "code",
   "execution_count": 32,
   "id": "c0b9318f-b5f4-40cb-bf1c-118f77d931ab",
   "metadata": {},
   "outputs": [],
   "source": [
    "#TODO: Train binary classification"
   ]
  },
  {
   "cell_type": "code",
   "execution_count": 33,
   "id": "b491ea8e-03e2-4408-9163-7078c3a9b16d",
   "metadata": {},
   "outputs": [],
   "source": [
    "#TODO: Evaluate"
   ]
  }
 ],
 "metadata": {
  "kernelspec": {
   "display_name": "Python 3 (ipykernel)",
   "language": "python",
   "name": "python3"
  },
  "language_info": {
   "codemirror_mode": {
    "name": "ipython",
    "version": 3
   },
   "file_extension": ".py",
   "mimetype": "text/x-python",
   "name": "python",
   "nbconvert_exporter": "python",
   "pygments_lexer": "ipython3",
   "version": "3.8.10"
  }
 },
 "nbformat": 4,
 "nbformat_minor": 5
}
